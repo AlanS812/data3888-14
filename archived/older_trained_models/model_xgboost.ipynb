{
  "nbformat": 4,
  "nbformat_minor": 0,
  "metadata": {
    "colab": {
      "provenance": [],
      "gpuType": "L4"
    },
    "kernelspec": {
      "name": "python3",
      "display_name": "Python 3"
    },
    "language_info": {
      "name": "python"
    }
  },
  "cells": [
    {
      "cell_type": "markdown",
      "source": [
        "# Libraries"
      ],
      "metadata": {
        "id": "6wNytIjt1wjn"
      }
    },
    {
      "cell_type": "code",
      "source": [
        "from PIL import Image, ImageFilter\n",
        "import tensorflow as tf\n",
        "from tensorflow.keras import datasets, layers, models, optimizers\n",
        "import matplotlib.pyplot as plt\n",
        "from pathlib import Path\n",
        "import random\n",
        "import os\n",
        "import numpy as np\n",
        "import pandas as pd\n",
        "from sklearn.metrics import confusion_matrix, accuracy_score, f1_score\n",
        "from sklearn.preprocessing import LabelEncoder\n",
        "from sklearn.model_selection import train_test_split\n",
        "import xgboost as xg\n",
        "import cv2\n",
        "import seaborn as sns\n",
        "import matplotlib.pyplot as plt"
      ],
      "metadata": {
        "id": "6AxXmtsB1meJ"
      },
      "execution_count": 2,
      "outputs": []
    },
    {
      "cell_type": "markdown",
      "source": [
        "#Pre-Processing"
      ],
      "metadata": {
        "id": "ZX_40NYe10Cq"
      }
    },
    {
      "cell_type": "markdown",
      "source": [
        "## Ingest Data"
      ],
      "metadata": {
        "id": "vXTriZk02BV3"
      }
    },
    {
      "cell_type": "code",
      "source": [
        "base_path = \"data/100\"\n",
        "\n",
        "# Get tumour file paths and shuffle\n",
        "tumour_files = []\n",
        "tumour_dirs = [\n",
        "    \"Invasive_Tumor\",\n",
        "    \"Prolif_Invasive_Tumor\",\n",
        "    \"T_Cell_and_Tumor_Hybrid\"\n",
        "]\n",
        "\n",
        "for dir_name in tumour_dirs:\n",
        "    dir_path = os.path.join(base_path, dir_name)\n",
        "    if os.path.isdir(dir_path):\n",
        "        files = [os.path.join(dir_path, f) for f in os.listdir(dir_path)]\n",
        "        tumour_files.extend(files)\n",
        "\n",
        "random.shuffle(tumour_files)\n",
        "\n",
        "# Get immune file paths and shuffle\n",
        "immune_files = []\n",
        "immune_dirs = [\n",
        "    \"CD4+_T_Cells\", \"CD4+_T_Cells\",\n",
        "    \"CD8+_T_Cells\",\n",
        "    \"B_Cells\",\n",
        "    \"Mast_Cells\",\n",
        "    \"Macrophages_1\",\n",
        "    \"Macrophages_2\",\n",
        "    \"LAMP3+_DCs\",\n",
        "    \"IRF7+_DCs\"\n",
        "]\n",
        "\n",
        "for dir_name in immune_dirs:\n",
        "    dir_path = os.path.join(base_path, dir_name)\n",
        "    if os.path.isdir(dir_path):\n",
        "        files = [os.path.join(dir_path, f) for f in os.listdir(dir_path)]\n",
        "        immune_files.extend(files)\n",
        "\n",
        "random.shuffle(immune_files)\n",
        "\n",
        "\n",
        "# Get stromal file paths and shuffle\n",
        "stromal_files = []\n",
        "stromal_dirs = [\n",
        "    \"Stromal\",\n",
        "    \"Stromal_and_T_Cell_Hybrid\",\n",
        "    \"Perivascular-Like\"\n",
        "]\n",
        "\n",
        "for dir_name in stromal_dirs:\n",
        "    dir_path = os.path.join(base_path, dir_name)\n",
        "    if os.path.isdir(dir_path):\n",
        "        files = [os.path.join(dir_path, f) for f in os.listdir(dir_path)]\n",
        "        stromal_files.extend(files)\n",
        "\n",
        "random.shuffle(stromal_files)\n",
        "\n",
        "# Get other file paths and shuffle\n",
        "other_files = []\n",
        "other_dirs = [\n",
        "    \"Endothelial\",\n",
        "    \"Myoepi_ACTA2+\",\n",
        "    \"Myoepi_KRT15+\",\n",
        "    \"DCIS_1\",\n",
        "    \"DCIS_2\",\n",
        "    \"Unlabeled\"\n",
        "]\n",
        "\n",
        "for dir_name in stromal_dirs:\n",
        "    dir_path = os.path.join(base_path, dir_name)\n",
        "    if os.path.isdir(dir_path):\n",
        "        files = [os.path.join(dir_path, f) for f in os.listdir(dir_path)]\n",
        "        other_files.extend(files)\n",
        "\n",
        "random.shuffle(other_files)"
      ],
      "metadata": {
        "id": "anlKzVW11uF5"
      },
      "execution_count": null,
      "outputs": []
    },
    {
      "cell_type": "markdown",
      "source": [
        "## Resizing"
      ],
      "metadata": {
        "id": "bO_EtLgI2EXw"
      }
    },
    {
      "cell_type": "code",
      "source": [
        "def load_resize(img_path, size=(224,224)):\n",
        "    img = Image.open(img_path).convert('RGB')\n",
        "    img = img.resize(size)\n",
        "    return np.array(img)\n",
        "\n",
        "tumour_imgs = [load_resize(f) for f in tumour_files]\n",
        "print(\"tumour loaded\")\n",
        "\n",
        "immune_imgs = [load_resize(f) for f in immune_files]\n",
        "print(\"immune loaded\")\n",
        "\n",
        "stromal_imgs = [load_resize(f) for f in stromal_files]\n",
        "print(\"stromal loaded\")\n",
        "\n",
        "other_imgs = [load_resize(f) for f in other_files]\n",
        "print(\"other loaded\")"
      ],
      "metadata": {
        "id": "hOXlwX3B2GLb"
      },
      "execution_count": null,
      "outputs": []
    },
    {
      "cell_type": "markdown",
      "source": [
        "## Test Train Split"
      ],
      "metadata": {
        "id": "DodPO1El2y51"
      }
    },
    {
      "cell_type": "code",
      "source": [
        "# Train using 80% of data from each group\n",
        "'''\n",
        "tumour_train_ind = int(0.8 * len(tumour_imgs))\n",
        "tumour_test_ind = int(0.2 * len(tumour_imgs))\n",
        "\n",
        "immune_train_ind = int(0.8 * len(immune_imgs))\n",
        "immune_test_ind = int(0.2 * len(immune_imgs))\n",
        "\n",
        "stromal_train_ind = int(0.8 * len(stromal_imgs))\n",
        "stromal_test_ind = int(0.2 * len(stromal_imgs))\n",
        "\n",
        "other_train_ind = int(0.8 * len(other_imgs))\n",
        "other_test_ind = int(0.2 * len(other_imgs))\n",
        "'''\n",
        "\n",
        "tumour_train_ind = 1000\n",
        "tumour_test_ind = 1200\n",
        "\n",
        "immune_train_ind = 1000\n",
        "immune_test_ind = 1200\n",
        "\n",
        "stromal_train_ind = 1000\n",
        "stromal_test_ind = 1200\n",
        "\n",
        "other_train_ind = 1000\n",
        "other_test_ind = 1200\n",
        "\n",
        "imgs_train = immune_imgs[:immune_train_ind] + tumour_imgs[:tumour_train_ind] + stromal_imgs[:stromal_train_ind] + other_imgs[:other_train_ind]\n",
        "imgs_test = immune_imgs[immune_train_ind:immune_test_ind] + tumour_imgs[tumour_train_ind:tumour_test_ind] + stromal_imgs[stromal_train_ind:stromal_test_ind] + other_imgs[other_train_ind:other_test_ind]\n",
        "\n",
        "Xmat_train = np.stack(imgs_train, axis=0)\n",
        "Xmat_test = np.stack(imgs_test, axis=0)\n",
        "\n",
        "y_train = ['Immune'] * immune_train_ind + ['Tumour'] * tumour_train_ind + ['Stromal'] * stromal_train_ind + ['Other'] * other_train_ind\n",
        "y_test = ['Immune'] * immune_test_ind + ['Tumour'] * tumour_test_ind + ['Stromal'] * stromal_test_ind + ['Other'] * other_test_ind"
      ],
      "metadata": {
        "id": "q-O8_b_K20DI"
      },
      "execution_count": null,
      "outputs": []
    },
    {
      "cell_type": "markdown",
      "source": [
        "## Transformations"
      ],
      "metadata": {
        "id": "jn29__1625rD"
      }
    },
    {
      "cell_type": "code",
      "source": [
        "def apply_blur(images):\n",
        "    return np.array([cv2.GaussianBlur(img, (5, 5), 0) for img in images])\n",
        "\n",
        "def apply_stretch(images):\n",
        "    stretched = []\n",
        "    for img in images:\n",
        "        h, w, c = img.shape\n",
        "        new_w = int(w * 1.2)  # stretch width by 20%\n",
        "        img_stretched = cv2.resize(img, (new_w, h))\n",
        "        img_cropped = img_stretched[:, :w, :]  # crop back to original width\n",
        "        stretched.append(img_cropped)\n",
        "    return np.array(stretched)\n",
        "\n",
        "def apply_greyscale(images):\n",
        "    greyscale = []\n",
        "    for img in images:\n",
        "        grey = cv2.cvtColor(img, cv2.COLOR_RGB2GRAY)\n",
        "        grey_3ch = cv2.cvtColor(grey, cv2.COLOR_GRAY2RGB)\n",
        "        greyscale.append(grey_3ch)\n",
        "    return np.array(greyscale)\n",
        "\n",
        "def apply_rotation(images):\n",
        "    rotated = []\n",
        "    for img in images:\n",
        "        (h, w) = img.shape[:2]\n",
        "        center = (w // 2, h // 2)\n",
        "        matrix = cv2.getRotationMatrix2D(center, 15, 1.0)  # rotate 15 degrees\n",
        "        rotated_img = cv2.warpAffine(img, matrix, (w, h), borderMode=cv2.BORDER_REFLECT)\n",
        "        rotated.append(rotated_img)\n",
        "    return np.array(rotated)\n",
        "\n",
        "Xmat_train_original = Xmat_train\n",
        "Xmat_train_blur = apply_blur(Xmat_train)\n",
        "Xmat_train_stretch = apply_stretch(Xmat_train)\n",
        "Xmat_train_greyscale = apply_greyscale(Xmat_train)\n",
        "Xmat_train_rotate = apply_rotation(Xmat_train)"
      ],
      "metadata": {
        "id": "mv9-KYI22847"
      },
      "execution_count": null,
      "outputs": []
    },
    {
      "cell_type": "code",
      "source": [
        "le = LabelEncoder()\n",
        "y_train_enc = le.fit_transform(y_train)\n",
        "y_test_enc = le.transform(y_test)\n",
        "\n",
        "# Flatten images for XGBoost (224x224x3 -> 150528 features)\n",
        "def flatten_images(images):\n",
        "  return images.reshape(images.shape[0], -1)\n",
        "X_train_flat = flatten_images(Xmat_train_original)\n",
        "X_test_flat = flatten_images(Xmat_test)\n",
        "\n",
        "# For augmented data\n",
        "X_train_blur_flat = flatten_images(Xmat_train_blur)\n",
        "X_train_stretch_flat = flatten_images(Xmat_train_stretch)\n",
        "X_train_greyscale_flat = flatten_images(Xmat_train_greyscale)\n",
        "X_train_rotate_flat = flatten_images(Xmat_train_rotate)"
      ],
      "metadata": {
        "id": "QosUpY1R7bAV"
      },
      "execution_count": null,
      "outputs": []
    },
    {
      "cell_type": "markdown",
      "source": [
        "#XGBoost Model"
      ],
      "metadata": {
        "id": "E24WthNm7xu0"
      }
    },
    {
      "cell_type": "markdown",
      "source": [
        "## Standard"
      ],
      "metadata": {
        "id": "P12zax3n8aCa"
      }
    },
    {
      "cell_type": "code",
      "source": [
        "#Initialize XGBoost classifier\n",
        "xgb_model = xgb.XGBClassifier(\n",
        "    objective='multi:softmax',\n",
        "    num_class=4,\n",
        "    n_estimators=100,\n",
        "    max_depth=6,\n",
        "    learning_rate=0.1,\n",
        "    subsample=0.8,\n",
        "    colsample_bytree=0.8,\n",
        "    random_state=42,\n",
        "    n_jobs=-1\n",
        "    )\n",
        "\n",
        "# Train model\n",
        "xgb_model.fit(X_train_flat, y_train_enc)\n",
        "\n",
        "# Evaluate\n",
        "y_pred = xgb_model.predict(X_test_flat)\n",
        "\n",
        "accuracy = accuracy_score(y_test_enc, y_pred)\n",
        "f1 = f1_score(y_test_enc, y_pred, average='weighted')\n",
        "conf_matrix = confusion_matrix(y_test_enc, y_pred)\n",
        "\n",
        "print(f\"Original Accuracy: {accuracy:.2%}\")\n",
        "print(f\"Original F1: {f1:.2%}\")\n",
        "\n",
        "plt.figure(figsize=(8, 6))\n",
        "sns.heatmap(conf_matrix, annot=True, fmt='g', cmap='Blues', xticklabels=['Class 0', 'Class 1', 'Class 2', 'Class 3'], yticklabels=['Class 0', 'Class 1', 'Class 2', 'Class 3'])\n",
        "plt.title('Confusion Matrix')\n",
        "plt.ylabel('True Label')\n",
        "plt.xlabel('Predicted Label')\n",
        "plt.show()"
      ],
      "metadata": {
        "colab": {
          "base_uri": "https://localhost:8080/",
          "height": 259
        },
        "id": "JS0BK88z70sC",
        "outputId": "297868e2-c600-439c-9257-c0d8cd7147af"
      },
      "execution_count": 5,
      "outputs": [
        {
          "output_type": "error",
          "ename": "NameError",
          "evalue": "name 'xgb' is not defined",
          "traceback": [
            "\u001b[0;31m---------------------------------------------------------------------------\u001b[0m",
            "\u001b[0;31mNameError\u001b[0m                                 Traceback (most recent call last)",
            "\u001b[0;32m<ipython-input-5-8c5523a6f54e>\u001b[0m in \u001b[0;36m<cell line: 0>\u001b[0;34m()\u001b[0m\n\u001b[1;32m      1\u001b[0m \u001b[0;31m#Initialize XGBoost classifier\u001b[0m\u001b[0;34m\u001b[0m\u001b[0;34m\u001b[0m\u001b[0m\n\u001b[0;32m----> 2\u001b[0;31m xgb_model = xgb.XGBClassifier(\n\u001b[0m\u001b[1;32m      3\u001b[0m     \u001b[0mobjective\u001b[0m\u001b[0;34m=\u001b[0m\u001b[0;34m'multi:softmax'\u001b[0m\u001b[0;34m,\u001b[0m\u001b[0;34m\u001b[0m\u001b[0;34m\u001b[0m\u001b[0m\n\u001b[1;32m      4\u001b[0m     \u001b[0mnum_class\u001b[0m\u001b[0;34m=\u001b[0m\u001b[0;36m4\u001b[0m\u001b[0;34m,\u001b[0m\u001b[0;34m\u001b[0m\u001b[0;34m\u001b[0m\u001b[0m\n\u001b[1;32m      5\u001b[0m     \u001b[0mn_estimators\u001b[0m\u001b[0;34m=\u001b[0m\u001b[0;36m100\u001b[0m\u001b[0;34m,\u001b[0m\u001b[0;34m\u001b[0m\u001b[0;34m\u001b[0m\u001b[0m\n",
            "\u001b[0;31mNameError\u001b[0m: name 'xgb' is not defined"
          ]
        }
      ]
    },
    {
      "cell_type": "markdown",
      "source": [
        "## Blur"
      ],
      "metadata": {
        "id": "M0V8uchJ8cYX"
      }
    },
    {
      "cell_type": "code",
      "source": [
        "# Train with blur augmentation\n",
        "xgb_model_blur = xgb.XGBClassifier(\n",
        "    objective='multi:softmax',\n",
        "    num_class=4,\n",
        "    n_estimators=100,\n",
        "    max_depth=6,\n",
        "    learning_rate=0.1,\n",
        "    subsample=0.8,\n",
        "    colsample_bytree=0.8,\n",
        "    random_state=42,\n",
        "    n_jobs=-1\n",
        "    )\n",
        "\n",
        "xgb_model_blur.fit(X_train_blur_flat, y_train_enc)\n",
        "\n",
        "# Evaluate\n",
        "y_pred_blur = xgb_model_blur.predict(X_test_flat)\n",
        "\n",
        "accuracy_blur = accuracy_score(y_test_enc, y_pred_blur)\n",
        "f1_blur = f1_score(y_test_enc, y_pred_blur, average='weighted')\n",
        "conf_matrix_blur = conf_matrix(y_test_enc, y_pred_blur)\n",
        "\n",
        "print(f\"Blur Accuracy: {accuracy_blur:.2%}\")\n",
        "print(f\"Blur F1: {f1_blur:.2%}\")\n",
        "\n",
        "plt.figure(figsize=(8, 6))\n",
        "sns.heatmap(conf_matrix_blur, annot=True, fmt='g', cmap='Blues', xticklabels=['Class 0', 'Class 1', 'Class 2', 'Class 3'], yticklabels=['Class 0', 'Class 1', 'Class 2', 'Class 3'])\n",
        "plt.title('Confusion Matrix')\n",
        "plt.ylabel('True Label')\n",
        "plt.xlabel('Predicted Label')\n",
        "plt.show()"
      ],
      "metadata": {
        "colab": {
          "base_uri": "https://localhost:8080/",
          "height": 259
        },
        "id": "ysn2KDXx8etW",
        "outputId": "b9beaa95-ebd1-40d8-8fda-f6c5150c6d38"
      },
      "execution_count": 6,
      "outputs": [
        {
          "output_type": "error",
          "ename": "NameError",
          "evalue": "name 'xgb' is not defined",
          "traceback": [
            "\u001b[0;31m---------------------------------------------------------------------------\u001b[0m",
            "\u001b[0;31mNameError\u001b[0m                                 Traceback (most recent call last)",
            "\u001b[0;32m<ipython-input-6-bb3e81c68753>\u001b[0m in \u001b[0;36m<cell line: 0>\u001b[0;34m()\u001b[0m\n\u001b[1;32m      1\u001b[0m \u001b[0;31m# Train with blur augmentation\u001b[0m\u001b[0;34m\u001b[0m\u001b[0;34m\u001b[0m\u001b[0m\n\u001b[0;32m----> 2\u001b[0;31m xgb_model_blur = xgb.XGBClassifier(\n\u001b[0m\u001b[1;32m      3\u001b[0m     \u001b[0mobjective\u001b[0m\u001b[0;34m=\u001b[0m\u001b[0;34m'multi:softmax'\u001b[0m\u001b[0;34m,\u001b[0m\u001b[0;34m\u001b[0m\u001b[0;34m\u001b[0m\u001b[0m\n\u001b[1;32m      4\u001b[0m     \u001b[0mnum_class\u001b[0m\u001b[0;34m=\u001b[0m\u001b[0;36m4\u001b[0m\u001b[0;34m,\u001b[0m\u001b[0;34m\u001b[0m\u001b[0;34m\u001b[0m\u001b[0m\n\u001b[1;32m      5\u001b[0m     \u001b[0mn_estimators\u001b[0m\u001b[0;34m=\u001b[0m\u001b[0;36m100\u001b[0m\u001b[0;34m,\u001b[0m\u001b[0;34m\u001b[0m\u001b[0;34m\u001b[0m\u001b[0m\n",
            "\u001b[0;31mNameError\u001b[0m: name 'xgb' is not defined"
          ]
        }
      ]
    },
    {
      "cell_type": "markdown",
      "source": [
        "## Stretch"
      ],
      "metadata": {
        "id": "kYBdgBmU87qv"
      }
    },
    {
      "cell_type": "code",
      "source": [
        "# Train with stretch augmentation\n",
        "xgb_model_stretch = xgb.XGBClassifier(\n",
        "    objective='multi:softmax',\n",
        "    num_class=4,\n",
        "    n_estimators=100,\n",
        "    max_depth=6,\n",
        "    learning_rate=0.1,\n",
        "    subsample=0.8,\n",
        "    colsample_bytree=0.8,\n",
        "    random_state=42,\n",
        "    n_jobs=-1\n",
        "    )\n",
        "\n",
        "xgb_model_stretch.fit(X_train_stretch_flat, y_train_enc)\n",
        "\n",
        "# Evaluate\n",
        "y_pred_stretch = xgb_model_stretch.predict(X_test_flat)\n",
        "\n",
        "accuracy_stretch = accuracy_score(y_test_enc, y_pred_stretch)\n",
        "f1_stretch = f1_score(y_test_enc, y_pred_stretch, average='weighted')\n",
        "conf_matrix_stretch = conf_matrix(y_test_enc, y_pred_stretch)\n",
        "\n",
        "print(f\"Stretch Accuracy: {accuracy_stretch:.2%}\")\n",
        "print(f\"Stretch F1: {f1_stretch:.2%}\")\n",
        "\n",
        "plt.figure(figsize=(8, 6))\n",
        "sns.heatmap(conf_matrix_stretch, annot=True, fmt='g', cmap='Blues', xticklabels=['Class 0', 'Class 1', 'Class 2', 'Class 3'], yticklabels=['Class 0', 'Class 1', 'Class 2', 'Class 3'])\n",
        "plt.title('Confusion Matrix')\n",
        "plt.ylabel('True Label')\n",
        "plt.xlabel('Predicted Label')\n",
        "plt.show()"
      ],
      "metadata": {
        "colab": {
          "base_uri": "https://localhost:8080/",
          "height": 36
        },
        "id": "gvIB-3uD88cm",
        "outputId": "ef10d2f7-b462-4c49-8199-2e8fe18a2e8d"
      },
      "execution_count": 3,
      "outputs": [
        {
          "output_type": "execute_result",
          "data": {
            "text/plain": [
              "'print(f\"Stretch Accuracy: {accuracy_stretch:.2%}\")'"
            ],
            "application/vnd.google.colaboratory.intrinsic+json": {
              "type": "string"
            }
          },
          "metadata": {},
          "execution_count": 3
        }
      ]
    },
    {
      "cell_type": "markdown",
      "source": [
        "## Greyscale"
      ],
      "metadata": {
        "id": "z3JOAFPC9bfz"
      }
    },
    {
      "cell_type": "code",
      "source": [
        "# Train with greyscale augmentation\n",
        "xgb_model_greyscale = xgb.XGBClassifier(\n",
        "    objective='multi:softmax',\n",
        "    num_class=4,\n",
        "    n_estimators=100,\n",
        "    max_depth=6,\n",
        "    learning_rate=0.1,\n",
        "    subsample=0.8,\n",
        "    colsample_bytree=0.8,\n",
        "    random_state=42,\n",
        "    n_jobs=-1\n",
        "    )\n",
        "\n",
        "xgb_model_greyscale.fit(X_train_greyscale_flat, y_train_enc)\\n\n",
        "\n",
        "# Evaluate\n",
        "y_pred_greyscale = xgb_model_greyscale.predict(X_test_flat)\n",
        "\n",
        "accuracy_greyscale = accuracy_score(y_test_enc, y_pred_greyscale)\n",
        "f1_greyscale = f1_score(y_test_enc, y_pred_greyscale, average='weighted')\n",
        "conf_matrix_greyscale = conf_matrix(y_test_enc, y_pred_greyscale)\n",
        "\n",
        "print(f\"Greyscale Accuracy: {accuracy_greyscale:.2%}\")\n",
        "print(f\"Greyscale F1: {f1_greyscale:.2%}\")\n",
        "\n",
        "plt.figure(figsize=(8, 6))\n",
        "sns.heatmap(conf_matrix_greyscale, annot=True, fmt='g', cmap='Blues', xticklabels=['Class 0', 'Class 1', 'Class 2', 'Class 3'], yticklabels=['Class 0', 'Class 1', 'Class 2', 'Class 3'])\n",
        "plt.title('Confusion Matrix')\n",
        "plt.ylabel('True Label')\n",
        "plt.xlabel('Predicted Label')\n",
        "plt.show()"
      ],
      "metadata": {
        "colab": {
          "base_uri": "https://localhost:8080/",
          "height": 36
        },
        "id": "820qM-MP9dDq",
        "outputId": "5cd24177-7b81-40bf-ae34-36a60f787638"
      },
      "execution_count": 4,
      "outputs": [
        {
          "output_type": "execute_result",
          "data": {
            "text/plain": [
              "'print(f\"Greyscale Accuracy: {accuracy_greyscale:.2%}\")'"
            ],
            "application/vnd.google.colaboratory.intrinsic+json": {
              "type": "string"
            }
          },
          "metadata": {},
          "execution_count": 4
        }
      ]
    },
    {
      "cell_type": "markdown",
      "source": [
        "## Rotation"
      ],
      "metadata": {
        "id": "wXC3glqS93b5"
      }
    },
    {
      "cell_type": "code",
      "source": [
        "# Train with rotation augmentation\n",
        "xgb_model_rotate = xgb.XGBClassifier(\n",
        "    objective='multi:softmax',\n",
        "    num_class=4,\n",
        "    n_estimators=100,\n",
        "    max_depth=6,\n",
        "    learning_rate=0.1,\n",
        "    subsample=0.8,\n",
        "    colsample_bytree=0.8,\n",
        "    random_state=42,\n",
        "    n_jobs=-1\n",
        "    )\n",
        "\n",
        "xgb_model_rotate.fit(X_train_rotate_flat, y_train_enc)\n",
        "\n",
        "# Evaluate\n",
        "y_pred_rotate = xgb_model_rotate.predict(X_test_flat)\n",
        "\n",
        "accuracy_rotate = accuracy_score(y_test_enc, y_pred_rotate)\n",
        "f1_rotate = f1_score(y_test_enc, y_pred_rotate, average='weighted')\n",
        "conf_matrix_rotation = conf_matrix(y_test_enc, y_pred_rotate)\n",
        "\n",
        "print(f\"Rotation Accuracy: {accuracy_rotate:.2%}\")\n",
        "print(f\"Rotation F1: {f1_rotate:.2%}\")\n",
        "\n",
        "plt.figure(figsize=(8, 6))\n",
        "sns.heatmap(conf_matrix_rotation, annot=True, fmt='g', cmap='Blues', xticklabels=['Class 0', 'Class 1', 'Class 2', 'Class 3'], yticklabels=['Class 0', 'Class 1', 'Class 2', 'Class 3'])\n",
        "plt.title('Confusion Matrix')\n",
        "plt.ylabel('True Label')\n",
        "plt.xlabel('Predicted Label')\n",
        "plt.show()"
      ],
      "metadata": {
        "id": "RvQGdXHb956K"
      },
      "execution_count": null,
      "outputs": []
    }
  ]
}