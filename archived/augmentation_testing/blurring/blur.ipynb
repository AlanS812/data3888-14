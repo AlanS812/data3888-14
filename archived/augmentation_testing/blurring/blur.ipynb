{
 "cells": [
  {
   "cell_type": "code",
   "execution_count": 8,
   "metadata": {},
   "outputs": [
    {
     "name": "stdout",
     "output_type": "stream",
     "text": [
      "Successfully blurred image and saved to blurred_box5.png\n"
     ]
    }
   ],
   "source": [
    "from PIL import Image, ImageFilter\n",
    "\n",
    "def blur_image(input_path, output_path, blur_method='gaussian', blur_radius=5):\n",
    "    try:\n",
    "        # Open the image\n",
    "        image = Image.open(input_path)\n",
    "        \n",
    "        # Apply different blur methods\n",
    "        if blur_method == 'gaussian':\n",
    "            blurred_image = image.filter(ImageFilter.GaussianBlur(radius=blur_radius))\n",
    "        elif blur_method == 'box':\n",
    "            blurred_image = image.filter(ImageFilter.BoxBlur(radius=blur_radius))\n",
    "        elif blur_method == 'simple':\n",
    "            blurred_image = image.filter(ImageFilter.BLUR)\n",
    "        else:\n",
    "            raise ValueError(\"Invalid blur method. Choose 'gaussian', 'box', or 'simple'\")\n",
    "        \n",
    "        # Save the blurred image\n",
    "        blurred_image.save(output_path)\n",
    "        print(f\"Successfully blurred image and saved to {output_path}\")\n",
    "        \n",
    "    except Exception as e:\n",
    "        print(f\"An error occurred: {e}\")\n",
    "\n",
    "# Example usage\n",
    "blur_image('example.png', 'blurred_box5.png', blur_method='box', blur_radius=2)\n"
   ]
  }
 ],
 "metadata": {
  "kernelspec": {
   "display_name": "Python [conda env:base] *",
   "language": "python",
   "name": "conda-base-py"
  },
  "language_info": {
   "codemirror_mode": {
    "name": "ipython",
    "version": 3
   },
   "file_extension": ".py",
   "mimetype": "text/x-python",
   "name": "python",
   "nbconvert_exporter": "python",
   "pygments_lexer": "ipython3",
   "version": "3.12.7"
  }
 },
 "nbformat": 4,
 "nbformat_minor": 4
}
