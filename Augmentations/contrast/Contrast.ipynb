{
 "cells": [
  {
   "cell_type": "code",
   "execution_count": 6,
   "id": "b8b65004-9dc9-4601-9bd3-7b9a925288c4",
   "metadata": {},
   "outputs": [],
   "source": [
    "import cv2\n",
    "import numpy as np\n",
    "from PIL import Image\n",
    "import matplotlib.pyplot as plt\n",
    "\n",
    "def enhance_contrast(pil_image, clip_limit=2.0, tile_grid_size=(8, 8)):\n",
    "    img = cv2.cvtColor(np.array(pil_image), cv2.COLOR_RGB2BGR)\n",
    "    \n",
    "    lab = cv2.cvtColor(img, cv2.COLOR_BGR2LAB)\n",
    "    l_channel, a_channel, b_channel = cv2.split(lab)\n",
    "\n",
    "    clahe = cv2.createCLAHE(clipLimit=clip_limit, tileGridSize=tile_grid_size)\n",
    "    enhanced_l_channel = clahe.apply(l_channel)\n",
    "\n",
    "    enhanced_lab = cv2.merge((enhanced_l_channel, a_channel, b_channel))\n",
    "    enhanced_img_bgr = cv2.cvtColor(enhanced_lab, cv2.COLOR_LAB2BGR)\n",
    "    enhanced_img_rgb = cv2.cvtColor(enhanced_img_bgr, cv2.COLOR_BGR2RGB)\n",
    "\n",
    "    return Image.fromarray(enhanced_img_rgb)\n",
    "\n",
    "# Load image\n",
    "original = Image.open(\"cell_328_100.png\")\n",
    "\n",
    "# Enhance contrast\n",
    "enhanced = enhance_contrast(original)\n",
    "\n",
    "# Save both images\n",
    "original.save(\"example_original.png\")\n",
    "enhanced.save(\"example_enhanced.png\")\n"
   ]
  }
 ],
 "metadata": {
  "kernelspec": {
   "display_name": "Python 3 (ipykernel)",
   "language": "python",
   "name": "python3"
  },
  "language_info": {
   "codemirror_mode": {
    "name": "ipython",
    "version": 3
   },
   "file_extension": ".py",
   "mimetype": "text/x-python",
   "name": "python",
   "nbconvert_exporter": "python",
   "pygments_lexer": "ipython3",
   "version": "3.11.7"
  }
 },
 "nbformat": 4,
 "nbformat_minor": 5
}
