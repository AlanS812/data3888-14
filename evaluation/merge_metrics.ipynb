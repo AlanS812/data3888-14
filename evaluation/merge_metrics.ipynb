{
 "cells": [
  {
   "cell_type": "markdown",
   "id": "a7829adb-c8d5-47c0-a2c5-799e6892d937",
   "metadata": {},
   "source": [
    "# App Metrics"
   ]
  },
  {
   "cell_type": "code",
   "execution_count": 68,
   "id": "aa420e72-c208-4c82-ac27-16de87a649d1",
   "metadata": {},
   "outputs": [
    {
     "name": "stdout",
     "output_type": "stream",
     "text": [
      "['blur_size', 'noise_level', 'accuracy', 'f1', 'precision', 'recall', 'f1_immune', 'precision_immune', 'recall_immune', 'f1_other', 'precision_other', 'recall_other', 'f1_stromal', 'precision_stromal', 'recall_stromal', 'f1_tumour', 'precision_tumour', 'recall_tumour', 'confidence_overall', 'confidence_immune_avg', 'confidence_immune_std', 'confidence_other_avg', 'confidence_other_std', 'confidence_stromal_avg', 'confidence_stromal_std', 'confidence_tumour_avg', 'confidence_tumour_std', 'count_pred_immune', 'count_pred_other', 'count_pred_stromal', 'count_pred_tumour', 'confusion_matrix', 'Model_Label', 'test_set']\n"
     ]
    }
   ],
   "source": [
    "# all 100, all test set 1\n",
    "\n",
    "import pandas as pd\n",
    "import os\n",
    "\n",
    "metrics_dir = os.path.join(\"..\", \"metrics\")\n",
    "\n",
    "# Load and label\n",
    "rf_df = pd.read_csv(os.path.join(metrics_dir, \"rf_pca_augmented_metrics.csv\"))\n",
    "rf_df[\"Model_Label\"] = \"RF (PCA)\"\n",
    "\n",
    "xgb_df = pd.read_csv(os.path.join(metrics_dir, \"xgboost_augmented_metrics.csv\"))\n",
    "xgb_df = xgb_df[xgb_df[\"test_set\"] == 1].copy()\n",
    "xgb_df[\"Model_Label\"] = \"XGBoost (PCA)\"\n",
    "xgb_df = xgb_df[xgb_df[\"noise_level\"] != 50]\n",
    "\n",
    "cnn_df = pd.read_csv(os.path.join(metrics_dir, \"cnn_original_augmented_metrics.csv\"))\n",
    "cnn_df = cnn_df[cnn_df[\"test_set\"] == 1].copy()\n",
    "cnn_df[\"Model_Label\"] = \"CNN\"\n",
    "\n",
    "resnet_df = pd.read_csv(os.path.join(metrics_dir, \"resnet50_augmented_metrics.csv\"))\n",
    "resnet_df = resnet_df[resnet_df[\"test_set\"] == 1].copy()\n",
    "resnet_df[\"Model_Label\"] = \"ResNet\"\n",
    "\n",
    "# Rename 'confusion' → 'confusion_matrix' if exists\n",
    "for df in [xgb_df, cnn_df, resnet_df]:\n",
    "    if \"confusion\" in df.columns:\n",
    "        df.rename(columns={\"confusion\": \"confusion_matrix\"}, inplace=True)\n",
    "    elif \"confusion_matrix\" not in df.columns:\n",
    "        df[\"confusion_matrix\"] = \"[]\"\n",
    "\n",
    "# Rename precision_overall and recall_overall for CNN, XGBoost, resnet\n",
    "resnet_df.rename(columns={\"precision_overall\": \"precision\", \"recall_overall\": \"recall\"}, inplace=True)\n",
    "cnn_df.rename(columns={\"precision_overall\": \"precision\", \"recall_overall\": \"recall\"}, inplace=True)\n",
    "xgb_df.rename(columns={\"precision_overall\": \"precision\", \"recall_overall\": \"recall\"}, inplace=True)\n",
    "\n",
    "# Combine and save\n",
    "combined_df = pd.concat([rf_df, xgb_df, cnn_df, resnet_df], ignore_index=True)\n",
    "combined_df.fillna(0.0, inplace=True)\n",
    "combined_df.to_csv(\"../metrics/combined_app_metrics.csv\", index=False)\n",
    "\n",
    "print(combined_df.columns.tolist())"
   ]
  },
  {
   "cell_type": "markdown",
   "id": "0a2db5fb-bdb7-43c7-9f8e-968f877ad8f6",
   "metadata": {},
   "source": [
    "# Report Metrics (Full Data)"
   ]
  },
  {
   "cell_type": "code",
   "execution_count": 9,
   "id": "58099ba3-e28b-4ec4-bef4-b79c815e0ec7",
   "metadata": {},
   "outputs": [
    {
     "ename": "KeyError",
     "evalue": "'HOG'",
     "output_type": "error",
     "traceback": [
      "\u001b[0;31m---------------------------------------------------------------------------\u001b[0m",
      "\u001b[0;31mKeyError\u001b[0m                                  Traceback (most recent call last)",
      "File \u001b[0;32m/opt/anaconda3/lib/python3.12/site-packages/pandas/core/indexes/base.py:3805\u001b[0m, in \u001b[0;36mIndex.get_loc\u001b[0;34m(self, key)\u001b[0m\n\u001b[1;32m   3804\u001b[0m \u001b[38;5;28;01mtry\u001b[39;00m:\n\u001b[0;32m-> 3805\u001b[0m     \u001b[38;5;28;01mreturn\u001b[39;00m \u001b[38;5;28mself\u001b[39m\u001b[38;5;241m.\u001b[39m_engine\u001b[38;5;241m.\u001b[39mget_loc(casted_key)\n\u001b[1;32m   3806\u001b[0m \u001b[38;5;28;01mexcept\u001b[39;00m \u001b[38;5;167;01mKeyError\u001b[39;00m \u001b[38;5;28;01mas\u001b[39;00m err:\n",
      "File \u001b[0;32mindex.pyx:167\u001b[0m, in \u001b[0;36mpandas._libs.index.IndexEngine.get_loc\u001b[0;34m()\u001b[0m\n",
      "File \u001b[0;32mindex.pyx:196\u001b[0m, in \u001b[0;36mpandas._libs.index.IndexEngine.get_loc\u001b[0;34m()\u001b[0m\n",
      "File \u001b[0;32mpandas/_libs/hashtable_class_helper.pxi:7081\u001b[0m, in \u001b[0;36mpandas._libs.hashtable.PyObjectHashTable.get_item\u001b[0;34m()\u001b[0m\n",
      "File \u001b[0;32mpandas/_libs/hashtable_class_helper.pxi:7089\u001b[0m, in \u001b[0;36mpandas._libs.hashtable.PyObjectHashTable.get_item\u001b[0;34m()\u001b[0m\n",
      "\u001b[0;31mKeyError\u001b[0m: 'HOG'",
      "\nThe above exception was the direct cause of the following exception:\n",
      "\u001b[0;31mKeyError\u001b[0m                                  Traceback (most recent call last)",
      "Cell \u001b[0;32mIn[9], line 8\u001b[0m\n\u001b[1;32m      6\u001b[0m \u001b[38;5;66;03m# === Load and label RF variants ===\u001b[39;00m\n\u001b[1;32m      7\u001b[0m rf_all \u001b[38;5;241m=\u001b[39m pd\u001b[38;5;241m.\u001b[39mread_csv(os\u001b[38;5;241m.\u001b[39mpath\u001b[38;5;241m.\u001b[39mjoin(metrics_dir, \u001b[38;5;124m\"\u001b[39m\u001b[38;5;124mrf_augmented_metrics.csv\u001b[39m\u001b[38;5;124m\"\u001b[39m))\n\u001b[0;32m----> 8\u001b[0m rf_pixel \u001b[38;5;241m=\u001b[39m rf_all[(rf_all[\u001b[38;5;124m\"\u001b[39m\u001b[38;5;124mHOG\u001b[39m\u001b[38;5;124m\"\u001b[39m] \u001b[38;5;241m==\u001b[39m \u001b[38;5;28;01mFalse\u001b[39;00m) \u001b[38;5;241m&\u001b[39m (rf_all[\u001b[38;5;124m\"\u001b[39m\u001b[38;5;124mPCA\u001b[39m\u001b[38;5;124m\"\u001b[39m] \u001b[38;5;241m==\u001b[39m \u001b[38;5;28;01mFalse\u001b[39;00m)]\u001b[38;5;241m.\u001b[39mcopy()\n\u001b[1;32m      9\u001b[0m rf_pixel[\u001b[38;5;124m\"\u001b[39m\u001b[38;5;124mModel_Label\u001b[39m\u001b[38;5;124m\"\u001b[39m] \u001b[38;5;241m=\u001b[39m \u001b[38;5;124m\"\u001b[39m\u001b[38;5;124mRF (pixels)\u001b[39m\u001b[38;5;124m\"\u001b[39m\n\u001b[1;32m     11\u001b[0m rf_pca \u001b[38;5;241m=\u001b[39m rf_all[(rf_all[\u001b[38;5;124m\"\u001b[39m\u001b[38;5;124mPCA\u001b[39m\u001b[38;5;124m\"\u001b[39m] \u001b[38;5;241m==\u001b[39m \u001b[38;5;28;01mTrue\u001b[39;00m)]\u001b[38;5;241m.\u001b[39mcopy()\n",
      "File \u001b[0;32m/opt/anaconda3/lib/python3.12/site-packages/pandas/core/frame.py:4102\u001b[0m, in \u001b[0;36mDataFrame.__getitem__\u001b[0;34m(self, key)\u001b[0m\n\u001b[1;32m   4100\u001b[0m \u001b[38;5;28;01mif\u001b[39;00m \u001b[38;5;28mself\u001b[39m\u001b[38;5;241m.\u001b[39mcolumns\u001b[38;5;241m.\u001b[39mnlevels \u001b[38;5;241m>\u001b[39m \u001b[38;5;241m1\u001b[39m:\n\u001b[1;32m   4101\u001b[0m     \u001b[38;5;28;01mreturn\u001b[39;00m \u001b[38;5;28mself\u001b[39m\u001b[38;5;241m.\u001b[39m_getitem_multilevel(key)\n\u001b[0;32m-> 4102\u001b[0m indexer \u001b[38;5;241m=\u001b[39m \u001b[38;5;28mself\u001b[39m\u001b[38;5;241m.\u001b[39mcolumns\u001b[38;5;241m.\u001b[39mget_loc(key)\n\u001b[1;32m   4103\u001b[0m \u001b[38;5;28;01mif\u001b[39;00m is_integer(indexer):\n\u001b[1;32m   4104\u001b[0m     indexer \u001b[38;5;241m=\u001b[39m [indexer]\n",
      "File \u001b[0;32m/opt/anaconda3/lib/python3.12/site-packages/pandas/core/indexes/base.py:3812\u001b[0m, in \u001b[0;36mIndex.get_loc\u001b[0;34m(self, key)\u001b[0m\n\u001b[1;32m   3807\u001b[0m     \u001b[38;5;28;01mif\u001b[39;00m \u001b[38;5;28misinstance\u001b[39m(casted_key, \u001b[38;5;28mslice\u001b[39m) \u001b[38;5;129;01mor\u001b[39;00m (\n\u001b[1;32m   3808\u001b[0m         \u001b[38;5;28misinstance\u001b[39m(casted_key, abc\u001b[38;5;241m.\u001b[39mIterable)\n\u001b[1;32m   3809\u001b[0m         \u001b[38;5;129;01mand\u001b[39;00m \u001b[38;5;28many\u001b[39m(\u001b[38;5;28misinstance\u001b[39m(x, \u001b[38;5;28mslice\u001b[39m) \u001b[38;5;28;01mfor\u001b[39;00m x \u001b[38;5;129;01min\u001b[39;00m casted_key)\n\u001b[1;32m   3810\u001b[0m     ):\n\u001b[1;32m   3811\u001b[0m         \u001b[38;5;28;01mraise\u001b[39;00m InvalidIndexError(key)\n\u001b[0;32m-> 3812\u001b[0m     \u001b[38;5;28;01mraise\u001b[39;00m \u001b[38;5;167;01mKeyError\u001b[39;00m(key) \u001b[38;5;28;01mfrom\u001b[39;00m \u001b[38;5;21;01merr\u001b[39;00m\n\u001b[1;32m   3813\u001b[0m \u001b[38;5;28;01mexcept\u001b[39;00m \u001b[38;5;167;01mTypeError\u001b[39;00m:\n\u001b[1;32m   3814\u001b[0m     \u001b[38;5;66;03m# If we have a listlike key, _check_indexing_error will raise\u001b[39;00m\n\u001b[1;32m   3815\u001b[0m     \u001b[38;5;66;03m#  InvalidIndexError. Otherwise we fall through and re-raise\u001b[39;00m\n\u001b[1;32m   3816\u001b[0m     \u001b[38;5;66;03m#  the TypeError.\u001b[39;00m\n\u001b[1;32m   3817\u001b[0m     \u001b[38;5;28mself\u001b[39m\u001b[38;5;241m.\u001b[39m_check_indexing_error(key)\n",
      "\u001b[0;31mKeyError\u001b[0m: 'HOG'"
     ]
    }
   ],
   "source": [
    "import pandas as pd\n",
    "import os\n",
    "\n",
    "metrics_dir = os.path.join(\"..\", \"metrics\")\n",
    "\n",
    "# === Load and label RF variants ===\n",
    "rf_all = pd.read_csv(os.path.join(metrics_dir, \"rf_augmented_metrics.csv\"))\n",
    "rf_pixel = rf_all[(rf_all[\"HOG\"] == False) & (rf_all[\"PCA\"] == False)].copy()\n",
    "rf_pixel[\"Model_Label\"] = \"RF (pixels)\"\n",
    "\n",
    "rf_pca = rf_all[(rf_all[\"PCA\"] == True)].copy()\n",
    "rf_pca[\"Model_Label\"] = \"RF (PCA)\"\n",
    "\n",
    "rf_hog = rf_all[(rf_all[\"HOG\"] == True)].copy()\n",
    "rf_hog[\"Model_Label\"] = \"RF (HOG)\"\n",
    "\n",
    "# === Load and label remaining models ===\n",
    "xgb_df = pd.read_csv(os.path.join(metrics_dir, \"xgboost_augmented_metrics.csv\"))\n",
    "xgb_df[\"Model_Label\"] = \"XGBoost (PCA)\"\n",
    "xgb_df = xgb_df[xgb_df[\"noise_level\"] != 50]\n",
    "\n",
    "cnn_df = pd.read_csv(os.path.join(metrics_dir, \"cnn_original_augmented_metrics.csv\"))\n",
    "cnn_df[\"Model_Label\"] = \"CNN\"\n",
    "\n",
    "resnet_df = pd.read_csv(os.path.join(metrics_dir, \"resnet50_augmented_metrics.csv\"))\n",
    "resnet_df[\"Model_Label\"] = \"ResNet\"\n",
    "\n",
    "# === Keep all test sets for report ===\n",
    "\n",
    "# === Rename confusion column if needed ===\n",
    "for df in [xgb_df, cnn_df, resnet_df]:\n",
    "    if \"confusion\" in df.columns:\n",
    "        df.rename(columns={\"confusion\": \"confusion_matrix\"}, inplace=True)\n",
    "    elif \"confusion_matrix\" not in df.columns:\n",
    "        df[\"confusion_matrix\"] = \"[]\"\n",
    "\n",
    "# === Rename precision/recall for consistency ===\n",
    "for df in [xgb_df, cnn_df, resnet_df]:\n",
    "    df.rename(columns={\n",
    "        \"precision_overall\": \"precision\",\n",
    "        \"recall_overall\": \"recall\"\n",
    "    }, inplace=True)\n",
    "\n",
    "# === Combine all ===\n",
    "combined = pd.concat([rf_pixel, rf_pca, rf_hog, xgb_df, cnn_df, resnet_df], ignore_index=True)\n",
    "combined.fillna(0.0, inplace=True)\n",
    "combined.to_csv(os.path.join(metrics_dir, \"combined_report_metrics.csv\"), index=False)\n",
    "\n",
    "print(\"Saved combined_app_metrics.csv with shape:\", combined.shape)"
   ]
  },
  {
   "cell_type": "code",
   "execution_count": null,
   "id": "84b0ec3b-1a12-4ae5-9034-81e42a60ab9d",
   "metadata": {},
   "outputs": [],
   "source": []
  }
 ],
 "metadata": {
  "kernelspec": {
   "display_name": "Python [conda env:base] *",
   "language": "python",
   "name": "conda-base-py"
  },
  "language_info": {
   "codemirror_mode": {
    "name": "ipython",
    "version": 3
   },
   "file_extension": ".py",
   "mimetype": "text/x-python",
   "name": "python",
   "nbconvert_exporter": "python",
   "pygments_lexer": "ipython3",
   "version": "3.12.7"
  }
 },
 "nbformat": 4,
 "nbformat_minor": 5
}
