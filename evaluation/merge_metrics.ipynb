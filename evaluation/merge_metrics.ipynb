{
 "cells": [
  {
   "cell_type": "markdown",
   "id": "a7829adb-c8d5-47c0-a2c5-799e6892d937",
   "metadata": {},
   "source": [
    "# Merging Results - qmd and shiny csv"
   ]
  },
  {
   "cell_type": "code",
   "execution_count": 38,
   "id": "1922bbbe-3aba-45bc-a036-bd0420d1b16e",
   "metadata": {},
   "outputs": [],
   "source": [
    "import pandas as pd\n",
    "import os\n",
    "\n",
    "metrics_dir = os.path.join(\"..\", \"metrics\")\n",
    "\n",
    "rf_all = pd.read_csv(os.path.join(metrics_dir, \"rf_augmented_metrics.csv\"))\n",
    "\n",
    "rf_pixel = rf_all[(rf_all[\"HOG\"] == False) & (rf_all[\"PCA\"] == False)].copy()\n",
    "rf_pixel[\"Model_Label\"] = \"RF (pixels)\"\n",
    "\n",
    "rf_pca = rf_all[(rf_all[\"PCA\"] == True)].copy()\n",
    "rf_pca[\"Model_Label\"] = \"RF (PCA)\"\n",
    "\n",
    "rf_hog = rf_all[(rf_all[\"HOG\"] == True)].copy()\n",
    "rf_hog[\"Model_Label\"] = \"RF (HOG)\"\n",
    "\n",
    "# dropping flag column\n",
    "for df in [rf_pixel, rf_pca, rf_hog]:\n",
    "    df.drop(columns=[\"HOG\", \"PCA\"], inplace=True, errors=\"ignore\")\n",
    "\n",
    "xgb_df = pd.read_csv(os.path.join(metrics_dir, \"xgboost_augmented_metrics.csv\"))\n",
    "xgb_df = xgb_df[xgb_df[\"noise_level\"] != 50]\n",
    "xgb_df[\"Model_Label\"] = \"XGBoost (PCA)\"\n",
    "\n",
    "cnn_df = pd.read_csv(os.path.join(metrics_dir, \"cnn_original_augmented_metrics.csv\"))\n",
    "cnn_df[\"Model_Label\"] = \"CNN\"\n",
    "\n",
    "resnet_df = pd.read_csv(os.path.join(metrics_dir, \"resnet50_augmented_metrics.csv\"))\n",
    "resnet_df[\"Model_Label\"] = \"ResNet\"\n",
    "\n",
    "# fixing column names, making sure a confusion matrix always exists\n",
    "for df in [xgb_df, cnn_df, resnet_df]:\n",
    "    df.rename(columns={\n",
    "        \"precision_overall\": \"precision\",\n",
    "        \"recall_overall\": \"recall\",\n",
    "        \"confusion\": \"confusion_matrix\"\n",
    "    }, inplace=True, errors='ignore')\n",
    "    if \"confusion_matrix\" not in df.columns:\n",
    "        df[\"confusion_matrix\"] = \"[]\"\n",
    "\n",
    "# combining all for report and csv\n",
    "combined_all = pd.concat([rf_pixel, rf_pca, rf_hog, xgb_df, cnn_df, resnet_df], ignore_index=True)\n",
    "combined_all.fillna(0.0, inplace=True)\n",
    "combined_all.drop(columns=[\"model_label\"], inplace=True, errors=\"ignore\")\n",
    "\n",
    "# combined_all.head()\n",
    "combined_all.to_csv(os.path.join(metrics_dir, \"combined_report_metrics.csv\"), index=False)\n",
    "\n",
    "# app csv only (test set 1, PCA only)\n",
    "rf_pca_shiny = rf_pca[rf_pca[\"test_set\"] == 1].copy()\n",
    "\n",
    "xgb_shiny = xgb_df[xgb_df[\"test_set\"] == 1].copy()\n",
    "cnn_shiny = cnn_df[cnn_df[\"test_set\"] == 1].copy()\n",
    "resnet_shiny = resnet_df[resnet_df[\"test_set\"] == 1].copy()\n",
    "\n",
    "combined_shiny = pd.concat([rf_pca_shiny, xgb_shiny, cnn_shiny, resnet_shiny], ignore_index=True)\n",
    "combined_shiny.fillna(0.0, inplace=True)\n",
    "combined_shiny.drop(columns=[\"test_set\"], inplace=True, errors=\"ignore\")\n",
    "combined_shiny.drop(columns=[\"model_label\"], inplace=True, errors=\"ignore\")\n",
    "\n",
    "# combined_shiny.head()\n",
    "combined_shiny.to_csv(os.path.join(metrics_dir, \"combined_app_metrics.csv\"), index=False)"
   ]
  }
 ],
 "metadata": {
  "kernelspec": {
   "display_name": "Python [conda env:base] *",
   "language": "python",
   "name": "conda-base-py"
  },
  "language_info": {
   "codemirror_mode": {
    "name": "ipython",
    "version": 3
   },
   "file_extension": ".py",
   "mimetype": "text/x-python",
   "name": "python",
   "nbconvert_exporter": "python",
   "pygments_lexer": "ipython3",
   "version": "3.12.7"
  }
 },
 "nbformat": 4,
 "nbformat_minor": 5
}
