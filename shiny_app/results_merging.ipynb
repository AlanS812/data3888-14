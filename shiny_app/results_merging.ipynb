{
 "cells": [
  {
   "cell_type": "code",
   "execution_count": 68,
   "id": "aa420e72-c208-4c82-ac27-16de87a649d1",
   "metadata": {},
   "outputs": [
    {
     "name": "stdout",
     "output_type": "stream",
     "text": [
      "['blur_size', 'noise_level', 'accuracy', 'f1', 'precision', 'recall', 'f1_immune', 'precision_immune', 'recall_immune', 'f1_other', 'precision_other', 'recall_other', 'f1_stromal', 'precision_stromal', 'recall_stromal', 'f1_tumour', 'precision_tumour', 'recall_tumour', 'confidence_overall', 'confidence_immune_avg', 'confidence_immune_std', 'confidence_other_avg', 'confidence_other_std', 'confidence_stromal_avg', 'confidence_stromal_std', 'confidence_tumour_avg', 'confidence_tumour_std', 'count_pred_immune', 'count_pred_other', 'count_pred_stromal', 'count_pred_tumour', 'confusion_matrix', 'Model_Label', 'test_set']\n"
     ]
    }
   ],
   "source": [
    "# all 100, all test set 1\n",
    "\n",
    "import pandas as pd\n",
    "\n",
    "# Load and label\n",
    "rf_df = pd.read_csv(\"metrics/rf_metrics.csv\")\n",
    "rf_df[\"Model_Label\"] = \"RF (PCA)\"\n",
    "\n",
    "xgb_df = pd.read_csv(\"metrics/xgboost_metrics.csv\")\n",
    "xgb_df = xgb_df[xgb_df[\"test_set\"] == 1].copy()\n",
    "xgb_df[\"Model_Label\"] = \"XGBoost (PCA)\"\n",
    "xgb_df = xgb_df[xgb_df[\"noise_level\"] != 50]\n",
    "\n",
    "cnn_df = pd.read_csv(\"metrics/cnn_metrics.csv\")\n",
    "cnn_df = cnn_df[cnn_df[\"test_set\"] == 1].copy()\n",
    "cnn_df[\"Model_Label\"] = \"CNN\"\n",
    "\n",
    "#resnet_df = pd.read_csv(\"metrics/resnet50_placeholder_metrics.csv\") ### update to NOT placeholder\n",
    "resnet_df = pd.read_csv(\"metrics/resnet50_metrics.csv\")\n",
    "resnet_df = resnet_df[resnet_df[\"test_set\"] == 1].copy()\n",
    "resnet_df[\"Model_Label\"] = \"ResNet\"\n",
    "\n",
    "# Rename 'confusion' → 'confusion_matrix' if exists\n",
    "for df in [xgb_df, cnn_df, resnet_df]:\n",
    "    if \"confusion\" in df.columns:\n",
    "        df.rename(columns={\"confusion\": \"confusion_matrix\"}, inplace=True)\n",
    "    elif \"confusion_matrix\" not in df.columns:\n",
    "        df[\"confusion_matrix\"] = \"[]\"\n",
    "\n",
    "# Rename precision_overall and recall_overall for CNN, XGBoost, resnet\n",
    "resnet_df.rename(columns={\"precision_overall\": \"precision\", \"recall_overall\": \"recall\"}, inplace=True)\n",
    "cnn_df.rename(columns={\"precision_overall\": \"precision\", \"recall_overall\": \"recall\"}, inplace=True)\n",
    "xgb_df.rename(columns={\"precision_overall\": \"precision\", \"recall_overall\": \"recall\"}, inplace=True)\n",
    "\n",
    "# Combine and save\n",
    "combined_df = pd.concat([rf_df, xgb_df, cnn_df, resnet_df], ignore_index=True)\n",
    "combined_df.fillna(0.0, inplace=True)\n",
    "combined_df.to_csv(\"combined_results_100.csv\", index=False)\n",
    "\n",
    "print(combined_df.columns.tolist())"
   ]
  }
 ],
 "metadata": {
  "kernelspec": {
   "display_name": "Python [conda env:base] *",
   "language": "python",
   "name": "conda-base-py"
  },
  "language_info": {
   "codemirror_mode": {
    "name": "ipython",
    "version": 3
   },
   "file_extension": ".py",
   "mimetype": "text/x-python",
   "name": "python",
   "nbconvert_exporter": "python",
   "pygments_lexer": "ipython3",
   "version": "3.12.7"
  }
 },
 "nbformat": 4,
 "nbformat_minor": 5
}
